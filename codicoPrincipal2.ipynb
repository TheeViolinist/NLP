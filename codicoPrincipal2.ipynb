{
 "cells": [
  {
   "cell_type": "code",
   "execution_count": 6,
   "id": "7c3b37b8",
   "metadata": {},
   "outputs": [
    {
     "name": "stdout",
     "output_type": "stream",
     "text": [
      "0.7720577831406154\n"
     ]
    }
   ],
   "source": [
    "import spacy\n",
    "\n",
    "nlp = spacy.load(\"pt_core_news_lg\")\n",
    "\n",
    "# Um doc é uma sequencia de objetos chamadas token, que corresponde a literalmente cada palavra contida no texto\n",
    "# com esses objetos podemos utilizar seus métodos\n",
    "text1: str = \"Você vai sair com seus amigos hoje? Porque eu quero comprar algo, ou você já comprou com eles?\"\n",
    "text2: str = \"Você vai comprar um animal comigo?\"\n",
    "#envia como parametro ambos os textos em lower, para não houver erro no processo de tratamento do texto\n",
    "doc1 = nlp(text1.lower())\n",
    "doc2 = nlp(text2.lower())\n",
    "\n",
    "print(doc1.similarity(doc2))"
   ]
  },
  {
   "cell_type": "code",
   "execution_count": 11,
   "id": "ffa904c7",
   "metadata": {},
   "outputs": [
    {
     "name": "stdout",
     "output_type": "stream",
     "text": [
      "você\n",
      "vai\n",
      "sair\n",
      "com\n",
      "seus\n",
      "amigos\n",
      "hoje\n",
      "?\n",
      "porque\n",
      "eu\n",
      "quero\n",
      "comprar\n",
      "algo\n",
      ",\n",
      "ou\n",
      "você\n",
      "já\n",
      "comprou\n",
      "com\n",
      "eles\n",
      "?\n",
      "você\n",
      "vai\n",
      "comprar\n",
      "um\n",
      "animal\n",
      "comigo\n",
      "?\n",
      "0.846459063596043\n"
     ]
    }
   ],
   "source": [
    "\n",
    "# Vamos retirar as stop word dos textos, que são palavras sem muito significados como artigos, pronomes.\n",
    "def remove_stop_words(doc):\n",
    "    resume: str = ''\n",
    "\n",
    "\n",
    "    for token in doc:\n",
    "        print(token)\n",
    "        # Se token não for uma stop_word, ou seja, uma palavra sem muito significado, coloca-se ela na string resume\n",
    "        # Não podemos retirar virgulas e alguns sinais, pois eles dão sentido semântico ao texto e isso conta no processo de similaridade\n",
    "        if not token.is_stop:\n",
    "            resume += token.text + ' '\n",
    "\n",
    "    return resume\n",
    "\n",
    "\n",
    "\n",
    "\n",
    "doc_treated = nlp(remove_stop_words(doc1))\n",
    "doc_treated2 = nlp(remove_stop_words(doc2))\n",
    "\n",
    "\n",
    "print(doc_treated.similarity(doc_treated2))\n",
    "\n"
   ]
  },
  {
   "cell_type": "code",
   "execution_count": 10,
   "id": "eec145fa",
   "metadata": {},
   "outputs": [
    {
     "name": "stdout",
     "output_type": "stream",
     "text": [
      "sair amigar hoje ? comprar , \n",
      "comprar animal comigo ? \n",
      "0.7658693599356409\n"
     ]
    }
   ],
   "source": [
    "\n",
    "# Testando lemarizacao\n",
    "def lematiza_doc(doc):\n",
    "    resume: str = \"\"\n",
    "    \n",
    "    for token in doc:\n",
    "        \n",
    "        if token.text not in resume: \n",
    "            resume += token.lemma_ + \" \"\n",
    "\n",
    "\n",
    "\n",
    "\n",
    "    return resume\n",
    "\n",
    "\n",
    "\n",
    "\n",
    "\n",
    "\n",
    "\n",
    "\n",
    "\n",
    "\n",
    "doc_treated =  nlp(lematiza_doc(doc_treated))\n",
    "doc_treated2 = nlp(lematiza_doc(doc_treated2))\n",
    "\n",
    "print(doc_treated)\n",
    "print(doc_treated2)\n",
    "print(doc_treated.similarity(doc_treated2))"
   ]
  },
  {
   "cell_type": "code",
   "execution_count": null,
   "id": "a520162c",
   "metadata": {},
   "outputs": [],
   "source": []
  }
 ],
 "metadata": {
  "kernelspec": {
   "display_name": "Python 3 (ipykernel)",
   "language": "python",
   "name": "python3"
  },
  "language_info": {
   "codemirror_mode": {
    "name": "ipython",
    "version": 3
   },
   "file_extension": ".py",
   "mimetype": "text/x-python",
   "name": "python",
   "nbconvert_exporter": "python",
   "pygments_lexer": "ipython3",
   "version": "3.9.7"
  }
 },
 "nbformat": 4,
 "nbformat_minor": 5
}
